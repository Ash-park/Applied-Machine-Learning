{
 "cells": [
  {
   "cell_type": "markdown",
   "id": "af4a1a79",
   "metadata": {},
   "source": [
    "## Importing Required Dependencies"
   ]
  },
  {
   "cell_type": "code",
   "execution_count": 9,
   "id": "e959428f",
   "metadata": {},
   "outputs": [
    {
     "name": "stderr",
     "output_type": "stream",
     "text": [
      "[nltk_data] Downloading package stopwords to\n",
      "[nltk_data]     C:\\Users\\Dell\\AppData\\Roaming\\nltk_data...\n",
      "[nltk_data]   Package stopwords is already up-to-date!\n",
      "[nltk_data] Downloading package punkt to\n",
      "[nltk_data]     C:\\Users\\Dell\\AppData\\Roaming\\nltk_data...\n",
      "[nltk_data]   Package punkt is already up-to-date!\n"
     ]
    },
    {
     "data": {
      "text/plain": [
       "True"
      ]
     },
     "execution_count": 9,
     "metadata": {},
     "output_type": "execute_result"
    }
   ],
   "source": [
    "import pandas as pd\n",
    "import re\n",
    "import nltk\n",
    "from nltk.corpus import stopwords\n",
    "from nltk.tokenize import word_tokenize\n",
    "from sklearn.model_selection import train_test_split\n",
    "\n",
    "# Download necessary NLTK resources\n",
    "nltk.download('stopwords')\n",
    "nltk.download('punkt')"
   ]
  },
  {
   "cell_type": "markdown",
   "id": "1271b64e",
   "metadata": {},
   "source": [
    "###  Reads data from a given CSV file path and assigns column names."
   ]
  },
  {
   "cell_type": "code",
   "execution_count": 10,
   "id": "f96e2d55",
   "metadata": {},
   "outputs": [],
   "source": [
    "def read_dataset(file_path, sep = ','):\n",
    "    try:\n",
    "        data = pd.read_csv(file_path, sep='\\t', names=['label', 'text'], header=None, encoding='latin-1')\n",
    "        return data\n",
    "    except Exception as e:\n",
    "        print(f\"Error reading file: {e}\")\n",
    "        return None\n",
    "    \n",
    "dataset = read_dataset('SMSSpamCollection.csv', sep='\\t')\n"
   ]
  },
  {
   "cell_type": "markdown",
   "id": "daecc096",
   "metadata": {},
   "source": [
    "### Preprocesses text by converting to lowercase, removing special characters, and stopwords."
   ]
  },
  {
   "cell_type": "code",
   "execution_count": 12,
   "id": "2b23e330",
   "metadata": {},
   "outputs": [],
   "source": [
    "\n",
    "def clean_text(text):\n",
    "    \n",
    "    if not isinstance(text, str):\n",
    "        return \"\"  # Return empty string for invalid data\n",
    "    \n",
    "    text = text.lower().strip()  # Convert to lowercase and strip spaces\n",
    "    text = re.sub(r\"[^a-zA-Z\\d\\s]\", \"\", text)  # Remove special characters\n",
    "    \n",
    "    stop_words = set(stopwords.words(\"english\"))\n",
    "    words = word_tokenize(text)\n",
    "    filtered_words = [word for word in words if word not in stop_words]\n",
    "    \n",
    "    return \" \".join(filtered_words)\n",
    "\n",
    "def preprocess_data(data, text_column='text'):\n",
    "    \"\"\"Cleans dataset by removing NaNs, applying text preprocessing, and removing duplicates.\"\"\"\n",
    "    if text_column not in data.columns:\n",
    "        raise ValueError(f\"Column '{text_column}' not found in dataset\")\n",
    "    \n",
    "    data = data.dropna()  # Remove rows with missing text\n",
    "    data[text_column] = data[text_column].apply(clean_text)  # Apply text cleaning\n",
    "    data = data.drop_duplicates(subset=[text_column])  # Remove duplicate texts\n",
    "    \n",
    "    return data\n",
    "\n",
    "dataset = preprocess_data(dataset, text_column='text')\n",
    "\n"
   ]
  },
  {
   "cell_type": "markdown",
   "id": "24562e3c",
   "metadata": {},
   "source": [
    "### Splits dataset into training, validation, and test sets."
   ]
  },
  {
   "cell_type": "code",
   "execution_count": 13,
   "id": "85a70a36",
   "metadata": {},
   "outputs": [],
   "source": [
    "\n",
    "def partition_data(data, test_size=0.2, val_size=0.5, random_state=42):\n",
    "\n",
    "    train_data, temp_data = train_test_split(data, test_size=test_size, random_state=random_state)\n",
    "    val_data, test_data = train_test_split(temp_data, test_size=val_size, random_state=random_state)\n",
    "    \n",
    "    return train_data, val_data, test_data\n",
    "\n",
    "train_set, val_set, test_set = partition_data(dataset)\n",
    "\n"
   ]
  },
  {
   "cell_type": "markdown",
   "id": "1d5d7398",
   "metadata": {},
   "source": [
    "### Saves the split datasets into CSV files."
   ]
  },
  {
   "cell_type": "code",
   "execution_count": 14,
   "id": "2ca1f7ba",
   "metadata": {},
   "outputs": [
    {
     "name": "stdout",
     "output_type": "stream",
     "text": [
      "Data saved: train.csv, validation.csv, test.csv\n"
     ]
    }
   ],
   "source": [
    "def save_splits(train_set, val_set, test_set, train_file=\"train.csv\", val_file=\"validation.csv\", test_file=\"test.csv\"):\n",
    "    \n",
    "    train_set.to_csv(train_file, index=False)\n",
    "    val_set.to_csv(val_file, index=False)\n",
    "    test_set.to_csv(test_file, index=False)\n",
    "    print(f\"Data saved: {train_file}, {val_file}, {test_file}\")\n",
    "\n",
    "save_splits(train_set, val_set, test_set)\n"
   ]
  }
 ],
 "metadata": {
  "kernelspec": {
   "display_name": "Python 3 (ipykernel)",
   "language": "python",
   "name": "python3"
  },
  "language_info": {
   "codemirror_mode": {
    "name": "ipython",
    "version": 3
   },
   "file_extension": ".py",
   "mimetype": "text/x-python",
   "name": "python",
   "nbconvert_exporter": "python",
   "pygments_lexer": "ipython3",
   "version": "3.9.12"
  }
 },
 "nbformat": 4,
 "nbformat_minor": 5
}
